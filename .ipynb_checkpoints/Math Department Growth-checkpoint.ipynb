{
 "cells": [
  {
   "cell_type": "code",
   "execution_count": 2,
   "metadata": {
    "collapsed": false
   },
   "outputs": [],
   "source": [
    "\n",
    "import numpy as np\n",
    "import matplotlib.pyplot as mpl\n",
    "from pandas import read_excel, DataFrame\n",
    "\n",
    "df = read_excel(\"Math Department Data.xlsx\")"
   ]
  },
  {
   "cell_type": "code",
   "execution_count": 3,
   "metadata": {
    "collapsed": false
   },
   "outputs": [],
   "source": [
    "dfME = df[\"Math/Econ\"]\n",
    "\n",
    "fME = mpl.plot(dfME)\n",
    "\n",
    "f = mpl.xticks(np.arange(14) + np.array(np.ones(14)*.5), df[\"Quarter\"])\n",
    "f = mpl.yticks(np.arange(0,280,20))\n",
    "\n",
    "f = mpl.title(\"Growth of Math/Economics Majors\")\n",
    "f = mpl.xlabel(\"Quarter\")\n",
    "f = mpl.ylabel(\"Number of Students\")\n",
    "\n",
    "mpl.show()"
   ]
  },
  {
   "cell_type": "code",
   "execution_count": 4,
   "metadata": {
    "collapsed": false
   },
   "outputs": [],
   "source": [
    "dfT = df[\"TOTAL\"]\n",
    "\n",
    "fME = mpl.plot(dfME)\n",
    "fT = mpl.plot(dfT, color = 'r')\n",
    "\n",
    "f = mpl.xticks(np.arange(14) + np.array(np.ones(14)*.5), df[\"Quarter\"])\n",
    "\n",
    "f = mpl.title(\"Growth (?) of Math/Economics Majors\")\n",
    "f = mpl.xlabel(\"Quarter\")\n",
    "f = mpl.ylabel(\"Number of Students\")\n",
    "f = mpl.legend( (fME[0], fT[0]), (\"Math/Economics\", \"Math Department\"))\n",
    "\n",
    "mpl.show()"
   ]
  },
  {
   "cell_type": "code",
   "execution_count": 5,
   "metadata": {
    "collapsed": false
   },
   "outputs": [],
   "source": [
    "dfP = np.zeros(15)\n",
    "\n",
    "for x in np.arange(0,15,1):\n",
    "    dfP[x] = dfME[x] / dfT[x]\n",
    "\n",
    "f3 = mpl.plot(dfP)\n",
    "\n",
    "f3 = mpl.yticks( np.arange(0,1.1,.1))\n",
    "f3 = mpl.xticks(np.arange(14) + np.array(np.ones(14)*.5), df[\"Quarter\"])\n",
    "\n",
    "f = mpl.title(\"Growth (?) of Math/Economics Majors\")\n",
    "f = mpl.xlabel(\"Quarter\")\n",
    "f = mpl.ylabel(\"Percentage of Students within Math Department\")\n",
    "\n",
    "mpl.show()"
   ]
  },
  {
   "cell_type": "code",
   "execution_count": null,
   "metadata": {
    "collapsed": true
   },
   "outputs": [],
   "source": []
  }
 ],
 "metadata": {
  "kernelspec": {
   "display_name": "Python 3",
   "language": "python",
   "name": "python3"
  },
  "language_info": {
   "codemirror_mode": {
    "name": "ipython",
    "version": 3
   },
   "file_extension": ".py",
   "mimetype": "text/x-python",
   "name": "python",
   "nbconvert_exporter": "python",
   "pygments_lexer": "ipython3",
   "version": "3.5.1"
  }
 },
 "nbformat": 4,
 "nbformat_minor": 0
}
